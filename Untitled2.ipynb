{
  "nbformat": 4,
  "nbformat_minor": 0,
  "metadata": {
    "colab": {
      "name": "Untitled2.ipynb",
      "version": "0.3.2",
      "provenance": [],
      "collapsed_sections": [],
      "include_colab_link": true
    },
    "kernelspec": {
      "name": "python3",
      "display_name": "Python 3"
    }
  },
  "cells": [
    {
      "cell_type": "markdown",
      "metadata": {
        "id": "view-in-github",
        "colab_type": "text"
      },
      "source": [
        "[View in Colaboratory](https://colab.research.google.com/github/shaazar/music1/blob/master/Untitled2.ipynb)"
      ]
    },
    {
      "metadata": {
        "id": "4_0hQfCEoBp0",
        "colab_type": "code",
        "colab": {}
      },
      "cell_type": "code",
      "source": [
        "#@title Downloading Data with git command\n",
        "\n",
        "#دستور ترمینال لینوکس برای دانلود داده ها از گیت هاب\n",
        "!git clone https://github.com/MaryamRaygan/Music.git\n",
        "\n",
        "#دستور برای پاک کردن خطوط چاپ شده در خروجی\n",
        "from IPython.display import clear_output\n",
        "clear_output()"
      ],
      "execution_count": 0,
      "outputs": []
    },
    {
      "metadata": {
        "id": "xjkI1FAfoqZw",
        "colab_type": "code",
        "colab": {}
      },
      "cell_type": "code",
      "source": [
        "#@title Check weather data is downloaded or not\n",
        "\n",
        "#دستور لینوکس برای بررسی محتویات پوشه جاری \n",
        "!ls Music/Dastgah/1.txt"
      ],
      "execution_count": 0,
      "outputs": []
    },
    {
      "metadata": {
        "id": "5VXSwKBTowse",
        "colab_type": "code",
        "colab": {}
      },
      "cell_type": "code",
      "source": [
        "#@title Dwnload Liberaries\n",
        "\n",
        "!pip install ffmpeg\n",
        "!pip install Audiosegment\n",
        "from IPython.display import clear_output\n",
        "clear_output()"
      ],
      "execution_count": 0,
      "outputs": []
    },
    {
      "metadata": {
        "id": "gS2QWRtMpFAL",
        "colab_type": "text"
      },
      "cell_type": "markdown",
      "source": [
        ""
      ]
    },
    {
      "metadata": {
        "id": "OVwP5pVYkxph",
        "colab_type": "text"
      },
      "cell_type": "markdown",
      "source": [
        "خط شماره 3 دستور لینوکسی است برای دانلود نرم افزاری که کار آن تبدیل فرمت های مختلف صوتی به هم.\n",
        "\n",
        "خط 4 کتابخانه ای است که در سلول بالایی نصب کردیم که دوبله فایل های صوتی به هم به کمک نرم  افزاری که بالا نصب شد.\n",
        "\n",
        "دستور گلوب دات گلوب نام تمام فایل های مخصوص  موجود در پوشه ای که بعنوان ورودی گرفته است را بعنوان خروجی میده.\n",
        "\n"
      ]
    },
    {
      "metadata": {
        "id": "xjIbFLu4pPsL",
        "colab_type": "code",
        "colab": {}
      },
      "cell_type": "code",
      "source": [
        "#@title Change Sound Farmats from mp3 to wav\n",
        "\n",
        "!apt-get -qq -y install xvfb freeglut3-dev ffmpeg> /dev/null\n",
        "import pydub\n",
        "from pydub import AudioSegment\n",
        "from pydub.utils import which\n",
        "AudioSegment.converter = which(\"ffmpeg\")\n",
        "\n",
        "import glob as glob\n",
        "import os\n",
        "\n",
        "try:\n",
        "  os.mkdir('Data/')\n",
        "except:\n",
        "  x=0\n",
        "  \n",
        "try:\n",
        "  os.mkdir('Data/Music')\n",
        "except:\n",
        "  x=0\n",
        "  \n",
        "try:\n",
        "  os.mkdir('Data/Music/SoundSamples')\n",
        "except:\n",
        "  x=0\n",
        "\n",
        "for filename in glob.glob('Music/SoundSamples/*.mp3'):\n",
        "  sound = pydub.AudioSegment.from_file(filename)\n",
        "  sound.export('Data/'+filename+'.wav', format=\"wav\")"
      ],
      "execution_count": 0,
      "outputs": []
    },
    {
      "metadata": {
        "id": "XbssdGn9ph3b",
        "colab_type": "text"
      },
      "cell_type": "markdown",
      "source": [
        "خواندن فایل برچسب ها"
      ]
    },
    {
      "metadata": {
        "id": "A396jtAWpm-I",
        "colab_type": "code",
        "colab": {}
      },
      "cell_type": "code",
      "source": [
        "with open('Music/Dastgah/1.txt', 'r') as f:\n",
        "  x1=f.readlines()\n",
        "  \n",
        "x=[]\n",
        "for xf in x1:\n",
        "  xf1=xf.split()\n",
        "  x.append(xf1)\n",
        "  \n",
        "y1=[]\n",
        "y2=[]\n",
        "for i in range(0,len(x),2):\n",
        "  y1.append(x[i][0][-3:])\n",
        "  \n",
        "for i in range(1,len(x),2):\n",
        "  y2.append(x[i][0][-1:])\n",
        "  \n",
        "print(y1[0])"
      ],
      "execution_count": 0,
      "outputs": []
    },
    {
      "metadata": {
        "id": "NtN7fJh2pr-Z",
        "colab_type": "text"
      },
      "cell_type": "markdown",
      "source": [
        "کتابخانه \"اسکیپی دات ای ا\"، کلاس \"ویو فایل\" را ایمپورت میکند خط 2 : کتابخانه ای هست که لود میکنیم برای خواندن فایل ها از مسیری که در خط 3 آمده . فایل ها بافرمت ویو هستند\n",
        "\n",
        "بعد از اجرای این کد ، فایل های صوتی در لیست\" ایکس \"و برچسب ها در لیست \"وای\" قرار میگیرد .\n"
      ]
    },
    {
      "metadata": {
        "id": "0X8YdDdXqI96",
        "colab_type": "code",
        "colab": {}
      },
      "cell_type": "code",
      "source": [
        "from scipy.io import wavfile as wf\n",
        "import glob as glob\n",
        "\n",
        "x=[]\n",
        "y=[]\n",
        "for filename in glob.glob('Data/Music/SoundSamples/*.wav'):\n",
        "  for i in range(len(y1)):\n",
        "    if filename[-11:-8] == y1[i]:\n",
        "      x.append(wf.read(filename)[1])\n",
        "      y.append(y2[i])"
      ],
      "execution_count": 0,
      "outputs": []
    },
    {
      "metadata": {
        "id": "imAvc2M4qN6S",
        "colab_type": "text"
      },
      "cell_type": "markdown",
      "source": [
        "برای پیدا کردن طول بلندترین و کوتاهترین موزیک"
      ]
    },
    {
      "metadata": {
        "id": "qRZ_t2B6qTfr",
        "colab_type": "code",
        "colab": {}
      },
      "cell_type": "code",
      "source": [
        "max=0\n",
        "for xt in x:\n",
        "  if max<len(xt):\n",
        "    max=len(xt)\n",
        "\n",
        "min=99999999\n",
        "for xt in x:\n",
        "  if min>len(xt):\n",
        "    min=len(xt)\n",
        "    \n",
        "print(min)\n",
        "print(max)"
      ],
      "execution_count": 0,
      "outputs": []
    },
    {
      "metadata": {
        "id": "1VTQ8GSOqhbj",
        "colab_type": "text"
      },
      "cell_type": "markdown",
      "source": [
        ""
      ]
    },
    {
      "metadata": {
        "id": "cM191SW36_Fe",
        "colab_type": "text"
      },
      "cell_type": "markdown",
      "source": [
        "برای اینکه طول موزیک ها (داده ها )یکسان شود عمل پدینگ انجام دادیم . یک عدد رند بزرگتر از سایز طولانی ترین موزیک که 8000000 را انتخاب کردیم .\n",
        "توجه : این بخش هم جزو پیش پردازش  دیتا می باشد چونکه شبکه های عصبی دیتاهای ورودی با طول یکسان را پردازش میکنند\n"
      ]
    },
    {
      "metadata": {
        "id": "wcIjYbZDqkx8",
        "colab_type": "code",
        "colab": {}
      },
      "cell_type": "code",
      "source": [
        "# from keras.preprocessing import sequence\n",
        "max_review_length=8000000\n",
        "# x=sequence.pad_sequences(x, padding='pre', maxlen=max_review_length)\n",
        "\n",
        "xt2=[]\n",
        "for i in range(len(x)):\n",
        "  xt=[]\n",
        "  for j in range(max_review_length-len(x[i])):\n",
        "    xt.append(0)\n",
        "  xt=np.concatenate((xt, x[i]))\n",
        "  xt2.append(xt)\n",
        "  \n",
        "import numpy as np\n",
        "x=np.array(xt2)\n",
        "y=np.array(y)\n",
        "print(x.shape)\n",
        "print(y.shape)"
      ],
      "execution_count": 0,
      "outputs": []
    },
    {
      "metadata": {
        "id": "0F6CDN14q6T_",
        "colab_type": "code",
        "colab": {}
      },
      "cell_type": "code",
      "source": [
        "ValueError                                Traceback (most recent call last)\n",
        "<ipython-input-19-7345d45590a9> in <module>()\n",
        "      7   for j in range(max_review_length-len(x[i])):\n",
        "      8     xt.append(0)\n",
        "----> 9   xt=np.concatenate((xt, x[i]))\n",
        "     10   xt2.append(xt)\n",
        "     11 \n",
        "\n",
        "ValueError: all the input arrays must have same number of dimensions\n",
        "\n"
      ],
      "execution_count": 0,
      "outputs": []
    }
  ]
}